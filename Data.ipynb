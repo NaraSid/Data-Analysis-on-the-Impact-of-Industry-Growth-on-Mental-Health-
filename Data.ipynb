{
 "cells": [
  {
   "cell_type": "markdown",
   "source": [
    "# Data Analysis on the impact of Industrial Trends on Mental Health"
   ],
   "metadata": {
    "collapsed": false
   }
  },
  {
   "cell_type": "code",
   "execution_count": 1,
   "outputs": [
    {
     "data": {
      "text/plain": "['Cleaned Datasets\\\\E-GDP.csv',\n 'Cleaned Datasets\\\\E-GDPperCapita.csv',\n 'Cleaned Datasets\\\\E-Inflation.csv',\n 'Cleaned Datasets\\\\E-Unemployment.csv',\n 'Cleaned Datasets\\\\S-Anxiety.csv',\n 'Cleaned Datasets\\\\S-Bipolar.csv',\n 'Cleaned Datasets\\\\S-Eating.csv']"
     },
     "execution_count": 1,
     "metadata": {},
     "output_type": "execute_result"
    }
   ],
   "source": [
    "import glob\n",
    "\n",
    "import numpy as np\n",
    "import pandas as pd\n",
    "\n",
    "df = []\n",
    "files = glob.glob(\"Cleaned Datasets/*.csv\")\n",
    "for f in files:\n",
    "    df.append(pd.read_csv(f))\n",
    "# df_GDP =  pd.read_csv(\"Cleaned Datasets/E-GDP.csv\")\n",
    "# df_GDPpc = pd.read_csv(\"Cleaned Datasets/E-GDPperCapita.csv\")\n",
    "\n",
    "files\n",
    "\n",
    "\n",
    "\n"
   ],
   "metadata": {
    "collapsed": false
   }
  },
  {
   "cell_type": "markdown",
   "source": [
    "#### Dictionary to hold DataSet Names"
   ],
   "metadata": {
    "collapsed": false
   }
  },
  {
   "cell_type": "code",
   "execution_count": 2,
   "outputs": [
    {
     "data": {
      "text/plain": "{0: 'E-GDP',\n 1: 'E-GDPperCapita',\n 2: 'E-Inflation',\n 3: 'E-Unemployment',\n 4: 'S-Anxiety',\n 5: 'S-Bipolar',\n 6: 'S-Eating'}"
     },
     "execution_count": 2,
     "metadata": {},
     "output_type": "execute_result"
    }
   ],
   "source": [
    "file_to_index= dict((f.split('\\\\')[1].rstrip(\".csv\"),i) for i,f in enumerate(files))\n",
    "index_to_file =dict((i,f.split('\\\\')[1].rstrip(\".csv\")) for i,f in enumerate(files))\n",
    "index_to_file\n"
   ],
   "metadata": {
    "collapsed": false
   }
  },
  {
   "cell_type": "markdown",
   "source": [
    "# CLEANING"
   ],
   "metadata": {
    "collapsed": false
   }
  },
  {
   "cell_type": "markdown",
   "source": [
    "#### Collecting Country Names with NaN values acroos all Dataframes"
   ],
   "metadata": {
    "collapsed": false
   }
  },
  {
   "cell_type": "code",
   "execution_count": 3,
   "outputs": [
    {
     "data": {
      "text/plain": "{'American Samoa',\n 'Andorra',\n 'Antigua and Barbuda',\n 'Argentina',\n 'Bermuda',\n 'Comoros',\n 'Congo, Dem. Rep.',\n 'Cuba',\n 'Dominica',\n 'Eritrea',\n 'Greenland',\n 'Grenada',\n 'Guam',\n 'Kiribati',\n \"Korea, Dem. People's Rep.\",\n 'Liberia',\n 'Libya',\n 'Marshall Islands',\n 'Micronesia, Fed. Sts.',\n 'Monaco',\n 'Nauru',\n 'Northern Mariana Islands',\n 'Palau',\n 'Puerto Rico',\n 'San Marino',\n 'Seychelles',\n 'Somalia',\n 'South Sudan',\n 'St. Kitts and Nevis',\n 'Suriname',\n 'Syrian Arab Republic',\n 'Tajikistan',\n 'Turkmenistan',\n 'Tuvalu',\n 'Venezuela, RB',\n 'Virgin Islands (U.S.)',\n 'Yemen, Rep.'}"
     },
     "execution_count": 3,
     "metadata": {},
     "output_type": "execute_result"
    }
   ],
   "source": [
    "del_list = set()\n",
    "for  i in range(len(df)):\n",
    "    nanval = df[i][df[i].isna().any(axis=1)]\n",
    "    for name in nanval[\"Country Name\"]:\n",
    "        del_list.add(name)\n",
    "del_list\n"
   ],
   "metadata": {
    "collapsed": false
   }
  },
  {
   "cell_type": "markdown",
   "source": [
    "#### Removing all Countries from all DataFrames tha has a NaN value in any DataFrame to keep Countries across all DataFrames Consistent"
   ],
   "metadata": {
    "collapsed": false
   }
  },
  {
   "cell_type": "code",
   "execution_count": 4,
   "outputs": [],
   "source": [
    "for  i in range(len(df)):\n",
    "        df[i] = df[i][df[i][\"Country Name\"].isin(del_list) == False]\n"
   ],
   "metadata": {
    "collapsed": false
   }
  },
  {
   "cell_type": "code",
   "execution_count": 5,
   "outputs": [
    {
     "data": {
      "text/plain": "    Country Name Code      2015      2016      2017      2018      2019  \\\n0    Afghanistan  AFG  0.699595  0.699618  0.699622  0.699638  0.699645   \n1        Albania  ALB  0.542202  0.542146  0.542102  0.542057  0.542009   \n2        Algeria  DZA  0.756340  0.756327  0.756312  0.756294  0.756275   \n5         Angola  AGO  0.553900  0.553900  0.553900  0.553900  0.553899   \n8        Armenia  ARM  0.541710  0.541649  0.541587  0.541527  0.541465   \n..           ...  ...       ...       ...       ...       ...       ...   \n195    Venezuela  VEN  0.828631  0.829154  0.830110  0.830518  0.830463   \n196      Vietnam  VNM  0.336145  0.336134  0.336123  0.336112  0.336103   \n197        Yemen  YEM  0.725891  0.725918  0.725949  0.725967  0.725980   \n198       Zambia  ZMB  0.574490  0.574482  0.574473  0.574464  0.574454   \n199     Zimbabwe  ZWE  0.538596  0.538593  0.538589  0.538585  0.538580   \n\n      Average  \n0    0.699623  \n1    0.542103  \n2    0.756310  \n5    0.553900  \n8    0.541587  \n..        ...  \n195  0.829775  \n196  0.336123  \n197  0.725941  \n198  0.574472  \n199  0.538589  \n\n[171 rows x 8 columns]",
      "text/html": "<div>\n<style scoped>\n    .dataframe tbody tr th:only-of-type {\n        vertical-align: middle;\n    }\n\n    .dataframe tbody tr th {\n        vertical-align: top;\n    }\n\n    .dataframe thead th {\n        text-align: right;\n    }\n</style>\n<table border=\"1\" class=\"dataframe\">\n  <thead>\n    <tr style=\"text-align: right;\">\n      <th></th>\n      <th>Country Name</th>\n      <th>Code</th>\n      <th>2015</th>\n      <th>2016</th>\n      <th>2017</th>\n      <th>2018</th>\n      <th>2019</th>\n      <th>Average</th>\n    </tr>\n  </thead>\n  <tbody>\n    <tr>\n      <th>0</th>\n      <td>Afghanistan</td>\n      <td>AFG</td>\n      <td>0.699595</td>\n      <td>0.699618</td>\n      <td>0.699622</td>\n      <td>0.699638</td>\n      <td>0.699645</td>\n      <td>0.699623</td>\n    </tr>\n    <tr>\n      <th>1</th>\n      <td>Albania</td>\n      <td>ALB</td>\n      <td>0.542202</td>\n      <td>0.542146</td>\n      <td>0.542102</td>\n      <td>0.542057</td>\n      <td>0.542009</td>\n      <td>0.542103</td>\n    </tr>\n    <tr>\n      <th>2</th>\n      <td>Algeria</td>\n      <td>DZA</td>\n      <td>0.756340</td>\n      <td>0.756327</td>\n      <td>0.756312</td>\n      <td>0.756294</td>\n      <td>0.756275</td>\n      <td>0.756310</td>\n    </tr>\n    <tr>\n      <th>5</th>\n      <td>Angola</td>\n      <td>AGO</td>\n      <td>0.553900</td>\n      <td>0.553900</td>\n      <td>0.553900</td>\n      <td>0.553900</td>\n      <td>0.553899</td>\n      <td>0.553900</td>\n    </tr>\n    <tr>\n      <th>8</th>\n      <td>Armenia</td>\n      <td>ARM</td>\n      <td>0.541710</td>\n      <td>0.541649</td>\n      <td>0.541587</td>\n      <td>0.541527</td>\n      <td>0.541465</td>\n      <td>0.541587</td>\n    </tr>\n    <tr>\n      <th>...</th>\n      <td>...</td>\n      <td>...</td>\n      <td>...</td>\n      <td>...</td>\n      <td>...</td>\n      <td>...</td>\n      <td>...</td>\n      <td>...</td>\n    </tr>\n    <tr>\n      <th>195</th>\n      <td>Venezuela</td>\n      <td>VEN</td>\n      <td>0.828631</td>\n      <td>0.829154</td>\n      <td>0.830110</td>\n      <td>0.830518</td>\n      <td>0.830463</td>\n      <td>0.829775</td>\n    </tr>\n    <tr>\n      <th>196</th>\n      <td>Vietnam</td>\n      <td>VNM</td>\n      <td>0.336145</td>\n      <td>0.336134</td>\n      <td>0.336123</td>\n      <td>0.336112</td>\n      <td>0.336103</td>\n      <td>0.336123</td>\n    </tr>\n    <tr>\n      <th>197</th>\n      <td>Yemen</td>\n      <td>YEM</td>\n      <td>0.725891</td>\n      <td>0.725918</td>\n      <td>0.725949</td>\n      <td>0.725967</td>\n      <td>0.725980</td>\n      <td>0.725941</td>\n    </tr>\n    <tr>\n      <th>198</th>\n      <td>Zambia</td>\n      <td>ZMB</td>\n      <td>0.574490</td>\n      <td>0.574482</td>\n      <td>0.574473</td>\n      <td>0.574464</td>\n      <td>0.574454</td>\n      <td>0.574472</td>\n    </tr>\n    <tr>\n      <th>199</th>\n      <td>Zimbabwe</td>\n      <td>ZWE</td>\n      <td>0.538596</td>\n      <td>0.538593</td>\n      <td>0.538589</td>\n      <td>0.538585</td>\n      <td>0.538580</td>\n      <td>0.538589</td>\n    </tr>\n  </tbody>\n</table>\n<p>171 rows × 8 columns</p>\n</div>"
     },
     "execution_count": 5,
     "metadata": {},
     "output_type": "execute_result"
    }
   ],
   "source": [
    "df[5]"
   ],
   "metadata": {
    "collapsed": false
   }
  },
  {
   "cell_type": "markdown",
   "source": [
    "#### Reset Indexes of DataFrae"
   ],
   "metadata": {
    "collapsed": false
   }
  },
  {
   "cell_type": "code",
   "execution_count": 6,
   "outputs": [],
   "source": [
    "for  i in range(len(df)):\n",
    "    df[i] =df[i].reset_index()"
   ],
   "metadata": {
    "collapsed": false
   }
  },
  {
   "cell_type": "markdown",
   "source": [
    "#### Dictionary to hold Indexes of 163 countries"
   ],
   "metadata": {
    "collapsed": false
   }
  },
  {
   "cell_type": "code",
   "execution_count": 7,
   "outputs": [],
   "source": [
    "country_to_index =dict((c,i) for i,c in enumerate(df[0][\"Country Name\"]))\n",
    "index_to_country =dict((i,c) for i,c in enumerate(df[0][\"Country Name\"]))"
   ],
   "metadata": {
    "collapsed": false
   }
  },
  {
   "cell_type": "markdown",
   "source": [
    "#### Force Values of column Average to be int\n"
   ],
   "metadata": {
    "collapsed": false
   }
  },
  {
   "cell_type": "code",
   "execution_count": 8,
   "outputs": [
    {
     "data": {
      "text/plain": "index             int64\nCountry Name     object\nCountry Code     object\n2015            float64\n2016            float64\n2017            float64\n2018            float64\n2019            float64\nAverage          object\ndtype: object"
     },
     "execution_count": 8,
     "metadata": {},
     "output_type": "execute_result"
    }
   ],
   "source": [
    "df[0].dtypes"
   ],
   "metadata": {
    "collapsed": false
   }
  },
  {
   "cell_type": "code",
   "execution_count": 9,
   "outputs": [],
   "source": [
    "for  i in range(len(df)):\n",
    "    df[i][\"Average\"]=df[i][\"Average\"].astype('float64')"
   ],
   "metadata": {
    "collapsed": false
   }
  },
  {
   "cell_type": "code",
   "execution_count": 10,
   "outputs": [
    {
     "data": {
      "text/plain": "index             int64\nCountry Name     object\nCountry Code     object\n2015            float64\n2016            float64\n2017            float64\n2018            float64\n2019            float64\nAverage         float64\ndtype: object"
     },
     "execution_count": 10,
     "metadata": {},
     "output_type": "execute_result"
    }
   ],
   "source": [
    "df[0].dtypes"
   ],
   "metadata": {
    "collapsed": false
   }
  },
  {
   "cell_type": "markdown",
   "source": [
    "#### save re-cleaned datasets"
   ],
   "metadata": {
    "collapsed": false
   }
  },
  {
   "cell_type": "code",
   "execution_count": 11,
   "outputs": [],
   "source": [
    "# for f in  range(len(df)):\n",
    "#     df[f].to_csv(\"./Re-Cleaned Datasets/\"+ index_to_file[f]+\".csv\")"
   ],
   "metadata": {
    "collapsed": false
   }
  },
  {
   "cell_type": "markdown",
   "source": [
    "# Correlation\n",
    "##### 3D list to hold  4 Economy X 3 Stress X 163(after cleaning) Countries Correlation Matrices"
   ],
   "metadata": {
    "collapsed": false
   }
  },
  {
   "cell_type": "code",
   "execution_count": 12,
   "outputs": [
    {
     "data": {
      "text/plain": "(4, 3, 163)"
     },
     "execution_count": 12,
     "metadata": {},
     "output_type": "execute_result"
    }
   ],
   "source": [
    "# dfcorr = [[[0 for country in range(163)]for stress in range(3)] for economy in range(4)]\n",
    "# len(dfcorr[0][0])\n",
    "\n",
    "dfcorr = np.zeros((4,3,163))\n",
    "dfcorr.shape\n"
   ],
   "metadata": {
    "collapsed": false
   }
  },
  {
   "cell_type": "markdown",
   "source": [
    "## Pearson's Correlation\n",
    "### Using Pearson's correlation on each country for years 2015-2019  from each pair of datasets"
   ],
   "metadata": {
    "collapsed": false
   }
  },
  {
   "cell_type": "code",
   "execution_count": 13,
   "outputs": [
    {
     "data": {
      "text/plain": "array([[[-0.18868536,  0.64334526,  0.66066771, ..., -0.63422211,\n          0.15996501, -0.00923054],\n        [-0.57602256, -0.96136187, -0.73648971, ..., -0.97192737,\n         -0.86732135, -0.41977413],\n        [-0.70268126,  0.96674398,  0.66220564, ...,  0.97676835,\n          0.87937896, -0.42021701]],\n\n       [[-0.68434336, -0.07020769,  0.93370258, ..., -0.57954736,\n         -0.25618647, -0.04343658],\n        [-0.94484825,  0.39144005, -0.97263716, ..., -0.71057857,\n         -0.62539444, -0.32896133],\n        [-0.95793929, -0.39061429,  0.83318036, ...,  0.72238714,\n          0.66754256, -0.32936785]],\n\n       [[-0.02458244, -0.46687858, -0.23260293, ..., -0.12099645,\n         -0.26435826,  0.82958832],\n        [ 0.2374305 , -0.11373073,  0.11255341, ...,  0.4219596 ,\n          0.47672264, -0.74208249],\n        [ 0.41229121,  0.11930685,  0.06667825, ..., -0.3094646 ,\n         -0.48503391, -0.7183715 ]],\n\n       [[ 0.60045549, -0.71371118, -0.92156638, ..., -0.34174513,\n         -0.77085265,  0.36929506],\n        [ 0.88538754,  0.9532977 ,  0.97815468, ..., -0.90686345,\n          0.55061716, -0.99961413],\n        [ 0.96536017, -0.94646559, -0.94021308, ...,  0.8522143 ,\n         -0.47253592, -0.99813722]]])"
     },
     "execution_count": 13,
     "metadata": {},
     "output_type": "execute_result"
    }
   ],
   "source": [
    "index =0\n",
    "for  e in range(4):\n",
    "    for s in range(3):\n",
    "        for c in range(163):\n",
    "            dfcorr[e][s][c] = df[e].iloc[[c],3:8].T.corrwith(df[s+4].iloc[[c],3:8].T,method='pearson').iloc[0]\n",
    "dfcorr\n",
    "\n"
   ],
   "metadata": {
    "collapsed": false
   }
  },
  {
   "cell_type": "code",
   "execution_count": 14,
   "outputs": [
    {
     "data": {
      "text/plain": "-0.18868535757524701"
     },
     "execution_count": 14,
     "metadata": {},
     "output_type": "execute_result"
    }
   ],
   "source": [
    "dfcorr[0][0][0]"
   ],
   "metadata": {
    "collapsed": false
   }
  },
  {
   "cell_type": "markdown",
   "source": [
    "# Analysis\n",
    "#### Estimate factor importance by the percentage of correlation greater than 50% :\n",
    " $ \\frac{card(|corr| > 0.5)}{163} $, where corr ∈ dfcorr"
   ],
   "metadata": {
    "collapsed": false
   }
  },
  {
   "cell_type": "code",
   "execution_count": 15,
   "outputs": [
    {
     "data": {
      "text/plain": "array([[0.59509202, 0.90797546, 0.87730061],\n       [0.60736196, 0.84662577, 0.80368098],\n       [0.49079755, 0.62576687, 0.63190184],\n       [0.63190184, 0.81595092, 0.82208589]])"
     },
     "execution_count": 15,
     "metadata": {},
     "output_type": "execute_result"
    }
   ],
   "source": [
    "impact = np.zeros((4,3))\n",
    "\n",
    "for  e in range(4):\n",
    "    for s in range(3):\n",
    "        count =0;\n",
    "        for c in range(163):\n",
    "            if abs(dfcorr[e][s][c])>=0.5:\n",
    "                count += 1\n",
    "        impact[e][s]= count/163\n",
    "\n",
    "\n",
    "impact"
   ],
   "metadata": {
    "collapsed": false
   }
  },
  {
   "cell_type": "markdown",
   "source": [
    "#### Sorting impact to get factor importance"
   ],
   "metadata": {
    "collapsed": false
   }
  },
  {
   "cell_type": "code",
   "execution_count": 16,
   "outputs": [
    {
     "data": {
      "text/plain": "[('E-GDP/S-Bipolar', 0.9079754601226994),\n ('E-GDP/S-Eating', 0.8773006134969326),\n ('E-GDPperCapita/S-Bipolar', 0.8466257668711656),\n ('E-Unemployment/S-Eating', 0.8220858895705522),\n ('E-Unemployment/S-Bipolar', 0.8159509202453987),\n ('E-GDPperCapita/S-Eating', 0.803680981595092),\n ('E-Inflation/S-Eating', 0.6319018404907976),\n ('E-Unemployment/S-Anxiety', 0.6319018404907976),\n ('E-Inflation/S-Bipolar', 0.6257668711656442),\n ('E-GDPperCapita/S-Anxiety', 0.6073619631901841),\n ('E-GDP/S-Anxiety', 0.5950920245398773),\n ('E-Inflation/S-Anxiety', 0.49079754601226994)]"
     },
     "execution_count": 16,
     "metadata": {},
     "output_type": "execute_result"
    }
   ],
   "source": [
    "importance ={}\n",
    "for e in range(4):\n",
    "    for s in range(3):\n",
    "        importance[index_to_file[e]+\"/\"+index_to_file[s+4]] = impact[e][s]\n",
    "sorted_importance =sorted(importance.items(),  key=lambda x:x[1],reverse=True)\n",
    "sorted_importance"
   ],
   "metadata": {
    "collapsed": false
   }
  },
  {
   "cell_type": "code",
   "execution_count": 17,
   "outputs": [
    {
     "data": {
      "text/plain": "{'E-GDP/S-Anxiety': 0.5950920245398773,\n 'E-GDP/S-Bipolar': 0.9079754601226994,\n 'E-GDP/S-Eating': 0.8773006134969326,\n 'E-GDPperCapita/S-Anxiety': 0.6073619631901841,\n 'E-GDPperCapita/S-Bipolar': 0.8466257668711656,\n 'E-GDPperCapita/S-Eating': 0.803680981595092,\n 'E-Inflation/S-Anxiety': 0.49079754601226994,\n 'E-Inflation/S-Bipolar': 0.6257668711656442,\n 'E-Inflation/S-Eating': 0.6319018404907976,\n 'E-Unemployment/S-Anxiety': 0.6319018404907976,\n 'E-Unemployment/S-Bipolar': 0.8159509202453987,\n 'E-Unemployment/S-Eating': 0.8220858895705522}"
     },
     "execution_count": 17,
     "metadata": {},
     "output_type": "execute_result"
    }
   ],
   "source": [
    "importance"
   ],
   "metadata": {
    "collapsed": false
   }
  },
  {
   "cell_type": "markdown",
   "source": [
    "#### Subdivision of positive and negative impacts among |correlation| >0.5 for each pair of datasets\n"
   ],
   "metadata": {
    "collapsed": false
   }
  },
  {
   "cell_type": "code",
   "execution_count": 18,
   "outputs": [
    {
     "data": {
      "text/plain": "{'E-GDP': 0,\n 'E-GDPperCapita': 1,\n 'E-Inflation': 2,\n 'E-Unemployment': 3,\n 'S-Anxiety': 4,\n 'S-Bipolar': 5,\n 'S-Eating': 6}"
     },
     "execution_count": 18,
     "metadata": {},
     "output_type": "execute_result"
    }
   ],
   "source": [
    "file_to_index"
   ],
   "metadata": {
    "collapsed": false
   }
  },
  {
   "cell_type": "markdown",
   "source": [],
   "metadata": {
    "collapsed": false
   }
  },
  {
   "cell_type": "code",
   "execution_count": 19,
   "outputs": [
    {
     "data": {
      "text/plain": "{'E-GDP/S-Anxiety': {'positive': 56, 'negative': 41},\n 'E-GDP/S-Bipolar': {'positive': 38, 'negative': 110},\n 'E-GDP/S-Eating': {'positive': 132, 'negative': 11},\n 'E-GDPperCapita/S-Anxiety': {'positive': 55, 'negative': 44},\n 'E-GDPperCapita/S-Bipolar': {'positive': 36, 'negative': 102},\n 'E-GDPperCapita/S-Eating': {'positive': 117, 'negative': 14},\n 'E-Inflation/S-Anxiety': {'positive': 36, 'negative': 44},\n 'E-Inflation/S-Bipolar': {'positive': 45, 'negative': 57},\n 'E-Inflation/S-Eating': {'positive': 64, 'negative': 39},\n 'E-Unemployment/S-Anxiety': {'positive': 59, 'negative': 44},\n 'E-Unemployment/S-Bipolar': {'positive': 70, 'negative': 63},\n 'E-Unemployment/S-Eating': {'positive': 57, 'negative': 77}}"
     },
     "execution_count": 19,
     "metadata": {},
     "output_type": "execute_result"
    }
   ],
   "source": [
    "impact_subdivsion = {}\n",
    "\n",
    "for e in range(len(impact)):\n",
    "    for s in range(len(impact[0])):\n",
    "        poscount=0\n",
    "        negcount=0\n",
    "        impact_subdivsion[index_to_file[e]+\"/\"+index_to_file[s+4]]={}\n",
    "        for c in range(163):\n",
    "            if abs(dfcorr[e][s][c])>=0.5:\n",
    "                if dfcorr[e][s][c]>=0:\n",
    "                        poscount += 1\n",
    "                if dfcorr[e][s][c]<0.5:\n",
    "                    negcount += 1\n",
    "            else:\n",
    "                continue\n",
    "        impact_subdivsion[index_to_file[e]+\"/\"+index_to_file[s+4]]['positive'] = poscount\n",
    "        impact_subdivsion[index_to_file[e]+\"/\"+index_to_file[s+4]]['negative'] = negcount\n",
    "\n",
    "impact_subdivsion\n"
   ],
   "metadata": {
    "collapsed": false
   }
  },
  {
   "cell_type": "markdown",
   "source": [
    "# Result Summary"
   ],
   "metadata": {
    "collapsed": false
   }
  },
  {
   "cell_type": "markdown",
   "source": [
    "#### Ranked importance of factors"
   ],
   "metadata": {
    "collapsed": false
   }
  },
  {
   "cell_type": "code",
   "execution_count": 21,
   "outputs": [
    {
     "data": {
      "text/plain": "[('E-GDP/S-Bipolar', 0.9079754601226994),\n ('E-GDP/S-Eating', 0.8773006134969326),\n ('E-GDPperCapita/S-Bipolar', 0.8466257668711656),\n ('E-Unemployment/S-Eating', 0.8220858895705522),\n ('E-Unemployment/S-Bipolar', 0.8159509202453987),\n ('E-GDPperCapita/S-Eating', 0.803680981595092),\n ('E-Inflation/S-Eating', 0.6319018404907976),\n ('E-Unemployment/S-Anxiety', 0.6319018404907976),\n ('E-Inflation/S-Bipolar', 0.6257668711656442),\n ('E-GDPperCapita/S-Anxiety', 0.6073619631901841),\n ('E-GDP/S-Anxiety', 0.5950920245398773),\n ('E-Inflation/S-Anxiety', 0.49079754601226994)]"
     },
     "execution_count": 21,
     "metadata": {},
     "output_type": "execute_result"
    }
   ],
   "source": [
    "sorted_importance"
   ],
   "metadata": {
    "collapsed": false
   }
  },
  {
   "cell_type": "code",
   "execution_count": 23,
   "outputs": [
    {
     "data": {
      "text/plain": "{'E-GDP/S-Anxiety': {'positive': 56, 'negative': 41},\n 'E-GDP/S-Bipolar': {'positive': 38, 'negative': 110},\n 'E-GDP/S-Eating': {'positive': 132, 'negative': 11},\n 'E-GDPperCapita/S-Anxiety': {'positive': 55, 'negative': 44},\n 'E-GDPperCapita/S-Bipolar': {'positive': 36, 'negative': 102},\n 'E-GDPperCapita/S-Eating': {'positive': 117, 'negative': 14},\n 'E-Inflation/S-Anxiety': {'positive': 36, 'negative': 44},\n 'E-Inflation/S-Bipolar': {'positive': 45, 'negative': 57},\n 'E-Inflation/S-Eating': {'positive': 64, 'negative': 39},\n 'E-Unemployment/S-Anxiety': {'positive': 59, 'negative': 44},\n 'E-Unemployment/S-Bipolar': {'positive': 70, 'negative': 63},\n 'E-Unemployment/S-Eating': {'positive': 57, 'negative': 77}}"
     },
     "execution_count": 23,
     "metadata": {},
     "output_type": "execute_result"
    }
   ],
   "source": [
    "impact_subdivsion\n"
   ],
   "metadata": {
    "collapsed": false
   }
  }
 ],
 "metadata": {
  "kernelspec": {
   "display_name": "Python 3",
   "language": "python",
   "name": "python3"
  },
  "language_info": {
   "codemirror_mode": {
    "name": "ipython",
    "version": 2
   },
   "file_extension": ".py",
   "mimetype": "text/x-python",
   "name": "python",
   "nbconvert_exporter": "python",
   "pygments_lexer": "ipython2",
   "version": "2.7.6"
  }
 },
 "nbformat": 4,
 "nbformat_minor": 0
}
